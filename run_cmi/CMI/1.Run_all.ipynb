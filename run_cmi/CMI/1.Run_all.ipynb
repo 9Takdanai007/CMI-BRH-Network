{
 "cells": [
  {
   "cell_type": "code",
   "execution_count": 1,
   "id": "cd9a277c-ea23-44c0-b49b-7fdf0f5b650a",
   "metadata": {},
   "outputs": [
    {
     "name": "stdout",
     "output_type": "stream",
     "text": [
      "Merged Data:\n",
      "        HCODE              AN            HN     DATEADM TIMEADM     DATEDSC  \\\n",
      "0        40.0   I40-24-006908  40-24-062963  29/11/2024   23:52  30/11/2024   \n",
      "1        40.0   I40-24-006887  40-24-033947  28/11/2024   17:49  29/11/2024   \n",
      "2        40.0   I40-24-006815  40-24-062348  24/11/2024   23:01  25/11/2024   \n",
      "3        40.0   I40-24-006600  40-24-007795  15/11/2024   15:09  16/11/2024   \n",
      "4        40.0   I40-24-006609  40-24-060401  15/11/2024   22:13  16/11/2024   \n",
      "...       ...             ...           ...         ...     ...         ...   \n",
      "133727    NaN             NaN           NaN         NaN     NaN         NaN   \n",
      "133728    NaN             NaN           NaN         NaN     NaN         NaN   \n",
      "133729    NaN  Total case IPD            41         NaN     NaN         NaN   \n",
      "133730    NaN          Adj RW          36.9         NaN     NaN         NaN   \n",
      "133731    NaN             CMI           0.9         NaN     NaN         NaN   \n",
      "\n",
      "       TIMEDSC  CALLOS  LEAVEDAY  ACTLOS  ... Unnamed: 2  D/C Unnamed: 215  \\\n",
      "0        01:12     0.0       0.0     0.0  ...        NaN  NaN          NaN   \n",
      "1        09:02     1.0       0.0     1.0  ...        NaN  NaN          NaN   \n",
      "2        12:54     1.0       0.0     1.0  ...        NaN  NaN          NaN   \n",
      "3        08:47     1.0       0.0     1.0  ...        NaN  NaN          NaN   \n",
      "4        08:35     1.0       0.0     1.0  ...        NaN  NaN          NaN   \n",
      "...        ...     ...       ...     ...  ...        ...  ...          ...   \n",
      "133727     NaN     NaN       NaN     NaN  ...        NaN  NaN          NaN   \n",
      "133728     NaN     NaN       NaN     NaN  ...        NaN  NaN          NaN   \n",
      "133729     NaN     NaN       NaN     NaN  ...        NaN  NaN          NaN   \n",
      "133730     NaN     NaN       NaN     NaN  ...        NaN  NaN          NaN   \n",
      "133731     NaN     NaN       NaN     NaN  ...        NaN  NaN          NaN   \n",
      "\n",
      "        Unnamed: 3  Unnamed: 4  39-19-010503 30/08/2019  11:09  31/08/2019  \\\n",
      "0              NaN         NaN           NaN        NaN    NaN         NaN   \n",
      "1              NaN         NaN           NaN        NaN    NaN         NaN   \n",
      "2              NaN         NaN           NaN        NaN    NaN         NaN   \n",
      "3              NaN         NaN           NaN        NaN    NaN         NaN   \n",
      "4              NaN         NaN           NaN        NaN    NaN         NaN   \n",
      "...            ...         ...           ...        ...    ...         ...   \n",
      "133727         NaN         NaN           NaN        NaN    NaN         NaN   \n",
      "133728         NaN         NaN           NaN        NaN    NaN         NaN   \n",
      "133729         NaN         NaN           NaN        NaN    NaN         NaN   \n",
      "133730         NaN         NaN           NaN        NaN    NaN         NaN   \n",
      "133731         NaN         NaN           NaN        NaN    NaN         NaN   \n",
      "\n",
      "        12:06  \n",
      "0         NaN  \n",
      "1         NaN  \n",
      "2         NaN  \n",
      "3         NaN  \n",
      "4         NaN  \n",
      "...       ...  \n",
      "133727    NaN  \n",
      "133728    NaN  \n",
      "133729    NaN  \n",
      "133730    NaN  \n",
      "133731    NaN  \n",
      "\n",
      "[133732 rows x 234 columns]\n",
      "\n",
      "Elapsed Time: 93.13289761543274 seconds\n"
     ]
    },
    {
     "ename": "TypeError",
     "evalue": "'int' object is not subscriptable",
     "output_type": "error",
     "traceback": [
      "\u001b[1;31m---------------------------------------------------------------------------\u001b[0m",
      "\u001b[1;31mTypeError\u001b[0m                                 Traceback (most recent call last)",
      "Cell \u001b[1;32mIn[1], line 17\u001b[0m\n\u001b[0;32m     14\u001b[0m start_time \u001b[38;5;241m=\u001b[39m time\u001b[38;5;241m.\u001b[39mtime()\n\u001b[0;32m     16\u001b[0m \u001b[38;5;66;03m# ให้ exec() ทำงานกับโค้ด Python\u001b[39;00m\n\u001b[1;32m---> 17\u001b[0m exec(python_code)\n\u001b[0;32m     19\u001b[0m \u001b[38;5;66;03m# วัดเวลาสิ้นสุด\u001b[39;00m\n\u001b[0;32m     20\u001b[0m end_time \u001b[38;5;241m=\u001b[39m time\u001b[38;5;241m.\u001b[39mtime()\n",
      "File \u001b[1;32m<string>:91\u001b[0m\n",
      "File \u001b[1;32m~\\AppData\\Local\\anaconda3\\Lib\\site-packages\\pandas\\core\\series.py:4760\u001b[0m, in \u001b[0;36mSeries.apply\u001b[1;34m(self, func, convert_dtype, args, by_row, **kwargs)\u001b[0m\n\u001b[0;32m   4625\u001b[0m \u001b[38;5;28;01mdef\u001b[39;00m \u001b[38;5;21mapply\u001b[39m(\n\u001b[0;32m   4626\u001b[0m     \u001b[38;5;28mself\u001b[39m,\n\u001b[0;32m   4627\u001b[0m     func: AggFuncType,\n\u001b[1;32m   (...)\u001b[0m\n\u001b[0;32m   4632\u001b[0m     \u001b[38;5;241m*\u001b[39m\u001b[38;5;241m*\u001b[39mkwargs,\n\u001b[0;32m   4633\u001b[0m ) \u001b[38;5;241m-\u001b[39m\u001b[38;5;241m>\u001b[39m DataFrame \u001b[38;5;241m|\u001b[39m Series:\n\u001b[0;32m   4634\u001b[0m \u001b[38;5;250m    \u001b[39m\u001b[38;5;124;03m\"\"\"\u001b[39;00m\n\u001b[0;32m   4635\u001b[0m \u001b[38;5;124;03m    Invoke function on values of Series.\u001b[39;00m\n\u001b[0;32m   4636\u001b[0m \n\u001b[1;32m   (...)\u001b[0m\n\u001b[0;32m   4751\u001b[0m \u001b[38;5;124;03m    dtype: float64\u001b[39;00m\n\u001b[0;32m   4752\u001b[0m \u001b[38;5;124;03m    \"\"\"\u001b[39;00m\n\u001b[0;32m   4753\u001b[0m     \u001b[38;5;28;01mreturn\u001b[39;00m SeriesApply(\n\u001b[0;32m   4754\u001b[0m         \u001b[38;5;28mself\u001b[39m,\n\u001b[0;32m   4755\u001b[0m         func,\n\u001b[0;32m   4756\u001b[0m         convert_dtype\u001b[38;5;241m=\u001b[39mconvert_dtype,\n\u001b[0;32m   4757\u001b[0m         by_row\u001b[38;5;241m=\u001b[39mby_row,\n\u001b[0;32m   4758\u001b[0m         args\u001b[38;5;241m=\u001b[39margs,\n\u001b[0;32m   4759\u001b[0m         kwargs\u001b[38;5;241m=\u001b[39mkwargs,\n\u001b[1;32m-> 4760\u001b[0m     )\u001b[38;5;241m.\u001b[39mapply()\n",
      "File \u001b[1;32m~\\AppData\\Local\\anaconda3\\Lib\\site-packages\\pandas\\core\\apply.py:1207\u001b[0m, in \u001b[0;36mSeriesApply.apply\u001b[1;34m(self)\u001b[0m\n\u001b[0;32m   1204\u001b[0m     \u001b[38;5;28;01mreturn\u001b[39;00m \u001b[38;5;28mself\u001b[39m\u001b[38;5;241m.\u001b[39mapply_compat()\n\u001b[0;32m   1206\u001b[0m \u001b[38;5;66;03m# self.func is Callable\u001b[39;00m\n\u001b[1;32m-> 1207\u001b[0m \u001b[38;5;28;01mreturn\u001b[39;00m \u001b[38;5;28mself\u001b[39m\u001b[38;5;241m.\u001b[39mapply_standard()\n",
      "File \u001b[1;32m~\\AppData\\Local\\anaconda3\\Lib\\site-packages\\pandas\\core\\apply.py:1287\u001b[0m, in \u001b[0;36mSeriesApply.apply_standard\u001b[1;34m(self)\u001b[0m\n\u001b[0;32m   1281\u001b[0m \u001b[38;5;66;03m# row-wise access\u001b[39;00m\n\u001b[0;32m   1282\u001b[0m \u001b[38;5;66;03m# apply doesn't have a `na_action` keyword and for backward compat reasons\u001b[39;00m\n\u001b[0;32m   1283\u001b[0m \u001b[38;5;66;03m# we need to give `na_action=\"ignore\"` for categorical data.\u001b[39;00m\n\u001b[0;32m   1284\u001b[0m \u001b[38;5;66;03m# TODO: remove the `na_action=\"ignore\"` when that default has been changed in\u001b[39;00m\n\u001b[0;32m   1285\u001b[0m \u001b[38;5;66;03m#  Categorical (GH51645).\u001b[39;00m\n\u001b[0;32m   1286\u001b[0m action \u001b[38;5;241m=\u001b[39m \u001b[38;5;124m\"\u001b[39m\u001b[38;5;124mignore\u001b[39m\u001b[38;5;124m\"\u001b[39m \u001b[38;5;28;01mif\u001b[39;00m \u001b[38;5;28misinstance\u001b[39m(obj\u001b[38;5;241m.\u001b[39mdtype, CategoricalDtype) \u001b[38;5;28;01melse\u001b[39;00m \u001b[38;5;28;01mNone\u001b[39;00m\n\u001b[1;32m-> 1287\u001b[0m mapped \u001b[38;5;241m=\u001b[39m obj\u001b[38;5;241m.\u001b[39m_map_values(\n\u001b[0;32m   1288\u001b[0m     mapper\u001b[38;5;241m=\u001b[39mcurried, na_action\u001b[38;5;241m=\u001b[39maction, convert\u001b[38;5;241m=\u001b[39m\u001b[38;5;28mself\u001b[39m\u001b[38;5;241m.\u001b[39mconvert_dtype\n\u001b[0;32m   1289\u001b[0m )\n\u001b[0;32m   1291\u001b[0m \u001b[38;5;28;01mif\u001b[39;00m \u001b[38;5;28mlen\u001b[39m(mapped) \u001b[38;5;129;01mand\u001b[39;00m \u001b[38;5;28misinstance\u001b[39m(mapped[\u001b[38;5;241m0\u001b[39m], ABCSeries):\n\u001b[0;32m   1292\u001b[0m     \u001b[38;5;66;03m# GH#43986 Need to do list(mapped) in order to get treated as nested\u001b[39;00m\n\u001b[0;32m   1293\u001b[0m     \u001b[38;5;66;03m#  See also GH#25959 regarding EA support\u001b[39;00m\n\u001b[0;32m   1294\u001b[0m     \u001b[38;5;28;01mreturn\u001b[39;00m obj\u001b[38;5;241m.\u001b[39m_constructor_expanddim(\u001b[38;5;28mlist\u001b[39m(mapped), index\u001b[38;5;241m=\u001b[39mobj\u001b[38;5;241m.\u001b[39mindex)\n",
      "File \u001b[1;32m~\\AppData\\Local\\anaconda3\\Lib\\site-packages\\pandas\\core\\base.py:921\u001b[0m, in \u001b[0;36mIndexOpsMixin._map_values\u001b[1;34m(self, mapper, na_action, convert)\u001b[0m\n\u001b[0;32m    918\u001b[0m \u001b[38;5;28;01mif\u001b[39;00m \u001b[38;5;28misinstance\u001b[39m(arr, ExtensionArray):\n\u001b[0;32m    919\u001b[0m     \u001b[38;5;28;01mreturn\u001b[39;00m arr\u001b[38;5;241m.\u001b[39mmap(mapper, na_action\u001b[38;5;241m=\u001b[39mna_action)\n\u001b[1;32m--> 921\u001b[0m \u001b[38;5;28;01mreturn\u001b[39;00m algorithms\u001b[38;5;241m.\u001b[39mmap_array(arr, mapper, na_action\u001b[38;5;241m=\u001b[39mna_action, convert\u001b[38;5;241m=\u001b[39mconvert)\n",
      "File \u001b[1;32m~\\AppData\\Local\\anaconda3\\Lib\\site-packages\\pandas\\core\\algorithms.py:1814\u001b[0m, in \u001b[0;36mmap_array\u001b[1;34m(arr, mapper, na_action, convert)\u001b[0m\n\u001b[0;32m   1812\u001b[0m values \u001b[38;5;241m=\u001b[39m arr\u001b[38;5;241m.\u001b[39mastype(\u001b[38;5;28mobject\u001b[39m, copy\u001b[38;5;241m=\u001b[39m\u001b[38;5;28;01mFalse\u001b[39;00m)\n\u001b[0;32m   1813\u001b[0m \u001b[38;5;28;01mif\u001b[39;00m na_action \u001b[38;5;129;01mis\u001b[39;00m \u001b[38;5;28;01mNone\u001b[39;00m:\n\u001b[1;32m-> 1814\u001b[0m     \u001b[38;5;28;01mreturn\u001b[39;00m lib\u001b[38;5;241m.\u001b[39mmap_infer(values, mapper, convert\u001b[38;5;241m=\u001b[39mconvert)\n\u001b[0;32m   1815\u001b[0m \u001b[38;5;28;01melse\u001b[39;00m:\n\u001b[0;32m   1816\u001b[0m     \u001b[38;5;28;01mreturn\u001b[39;00m lib\u001b[38;5;241m.\u001b[39mmap_infer_mask(\n\u001b[0;32m   1817\u001b[0m         values, mapper, mask\u001b[38;5;241m=\u001b[39misna(values)\u001b[38;5;241m.\u001b[39mview(np\u001b[38;5;241m.\u001b[39muint8), convert\u001b[38;5;241m=\u001b[39mconvert\n\u001b[0;32m   1818\u001b[0m     )\n",
      "File \u001b[1;32mlib.pyx:2917\u001b[0m, in \u001b[0;36mpandas._libs.lib.map_infer\u001b[1;34m()\u001b[0m\n",
      "File \u001b[1;32m<string>:83\u001b[0m, in \u001b[0;36mcal_OR_NON_OR_DRG\u001b[1;34m(value)\u001b[0m\n",
      "\u001b[1;31mTypeError\u001b[0m: 'int' object is not subscriptable"
     ]
    }
   ],
   "source": [
    "import nbformat\n",
    "from nbconvert import PythonExporter\n",
    "import time\n",
    "\n",
    "# อ่านไฟล์ ipynb\n",
    "with open('Run_CMI.ipynb', 'r', encoding='utf-8') as f:\n",
    "    notebook_content = nbformat.read(f, as_version=4)\n",
    "\n",
    "# ให้ PythonExporter แปลงไฟล์ notebook เป็นโค้ด Python\n",
    "python_exporter = PythonExporter()\n",
    "python_code, _ = python_exporter.from_notebook_node(notebook_content)\n",
    "\n",
    "# วัดเวลาเริ่มต้น\n",
    "start_time = time.time()\n",
    "\n",
    "# ให้ exec() ทำงานกับโค้ด Python\n",
    "exec(python_code)\n",
    "\n",
    "# วัดเวลาสิ้นสุด\n",
    "end_time = time.time()\n",
    "\n",
    "# คำนวณเวลาที่ใช้\n",
    "elapsed_time = end_time - start_time\n",
    "print(f\"Elapsed Time: {elapsed_time} seconds\")"
   ]
  },
  {
   "cell_type": "code",
   "execution_count": null,
   "id": "08964468-60ae-401b-acec-4606b250e7c2",
   "metadata": {},
   "outputs": [],
   "source": [
    "import nbformat\n",
    "from nbconvert import PythonExporter\n",
    "import time\n",
    "\n",
    "# อ่านไฟล์ ipynb\n",
    "with open('Run_PICU.ipynb', 'r', encoding='utf-8') as f:\n",
    "    notebook_content = nbformat.read(f, as_version=4)\n",
    "\n",
    "# ให้ PythonExporter แปลงไฟล์ notebook เป็นโค้ด Python\n",
    "python_exporter = PythonExporter()\n",
    "python_code, _ = python_exporter.from_notebook_node(notebook_content)\n",
    "\n",
    "# วัดเวลาเริ่มต้น\n",
    "start_time = time.time()\n",
    "\n",
    "# ให้ exec() ทำงานกับโค้ด Python\n",
    "exec(python_code)\n",
    "\n",
    "# วัดเวลาสิ้นสุด\n",
    "end_time = time.time()\n",
    "\n",
    "# คำนวณเวลาที่ใช้\n",
    "elapsed_time = end_time - start_time\n",
    "print(f\"Elapsed Time: {elapsed_time} seconds\")"
   ]
  },
  {
   "cell_type": "code",
   "execution_count": null,
   "id": "58c11f98-9dd1-4ad1-b33b-c0d69a55458c",
   "metadata": {},
   "outputs": [],
   "source": [
    "import pandas as pd\n",
    "df_CMI = pd.read_excel('RAW_CMI.xlsx')"
   ]
  },
  {
   "cell_type": "code",
   "execution_count": null,
   "id": "9d535057-7359-41ad-a993-7ee7d581fab4",
   "metadata": {},
   "outputs": [],
   "source": [
    "df_ICD10_fullcode = pd.read_excel(r'D:\\nai\\DATA MAIN\\DATA CMI\\DATA\\ICD-10 full code.xlsx' , sheet_name='SA ICD-10 MIT 2021')"
   ]
  },
  {
   "cell_type": "code",
   "execution_count": null,
   "id": "8fb85573-a949-4bdf-88f2-34dbff5d6b4a",
   "metadata": {},
   "outputs": [],
   "source": [
    "df_ICD10_fullcode.head()"
   ]
  },
  {
   "cell_type": "code",
   "execution_count": null,
   "id": "20d137a6-e63e-46c9-b492-76a0188b20dc",
   "metadata": {},
   "outputs": [],
   "source": [
    "selected_columns_data_ICD10 = df_ICD10_fullcode[['Chapter_Desc', 'Group_Code' , 'Group_Desc' ,'ICD10_3_Code','ICD10_3_Code_Desc','ICD10_Code','WHO_Full_Desc']]"
   ]
  },
  {
   "cell_type": "code",
   "execution_count": null,
   "id": "08e6da40-273b-4807-adc6-71311e21b370",
   "metadata": {},
   "outputs": [],
   "source": [
    "selected_columns_data_ICD10.head()"
   ]
  },
  {
   "cell_type": "code",
   "execution_count": null,
   "id": "8b7e2388-e049-487d-a3b5-d523663e88b7",
   "metadata": {},
   "outputs": [],
   "source": [
    "selected_columns_data_ICD10_no_duplicates = selected_columns_data_ICD10.drop_duplicates(subset='ICD10_Code')"
   ]
  },
  {
   "cell_type": "code",
   "execution_count": null,
   "id": "bbfc3010-85b9-4506-8d99-d42f9529ad08",
   "metadata": {},
   "outputs": [],
   "source": [
    "import time\n",
    "\n",
    "excel_file_path = 'ICD-10.xlsx'  # ระบุ path และชื่อไฟล์ Excel ที่คุณต้องการ\n",
    "\n",
    "# บันทึกเวลาเริ่มต้น\n",
    "start_time = time.time()\n",
    "\n",
    "# Export DataFrame เป็นไฟล์ Excel ด้วย Pandas\n",
    "selected_columns_data_ICD10_no_duplicates.to_excel(excel_file_path, index=False)\n",
    "\n",
    "# คำนวณและแสดงเวลาที่ใช้\n",
    "elapsed_time = time.time() - start_time\n",
    "print(f'เวลาที่ใช้ในการ export เป็นไฟล์ Excel: {elapsed_time:.2f} วินาที')"
   ]
  },
  {
   "cell_type": "code",
   "execution_count": null,
   "id": "51a6d623-c5f8-4732-a310-d0bd41c1cb82",
   "metadata": {},
   "outputs": [],
   "source": []
  }
 ],
 "metadata": {
  "kernelspec": {
   "display_name": "Python 3 (ipykernel)",
   "language": "python",
   "name": "python3"
  },
  "language_info": {
   "codemirror_mode": {
    "name": "ipython",
    "version": 3
   },
   "file_extension": ".py",
   "mimetype": "text/x-python",
   "name": "python",
   "nbconvert_exporter": "python",
   "pygments_lexer": "ipython3",
   "version": "3.11.5"
  }
 },
 "nbformat": 4,
 "nbformat_minor": 5
}
