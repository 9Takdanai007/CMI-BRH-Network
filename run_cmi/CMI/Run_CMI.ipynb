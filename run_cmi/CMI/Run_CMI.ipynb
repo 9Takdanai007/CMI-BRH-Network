{
 "cells": [
  {
   "cell_type": "code",
   "execution_count": 1,
   "id": "87d8bff4-f98d-42b1-aeba-066397f4070c",
   "metadata": {},
   "outputs": [
    {
     "name": "stdout",
     "output_type": "stream",
     "text": [
      "Merged Data:\n",
      "        HCODE              AN            HN     DATEADM TIMEADM     DATEDSC  \\\n",
      "0        40.0   I40-24-006908  40-24-062963  29/11/2024   23:52  30/11/2024   \n",
      "1        40.0   I40-24-006887  40-24-033947  28/11/2024   17:49  29/11/2024   \n",
      "2        40.0   I40-24-006815  40-24-062348  24/11/2024   23:01  25/11/2024   \n",
      "3        40.0   I40-24-006600  40-24-007795  15/11/2024   15:09  16/11/2024   \n",
      "4        40.0   I40-24-006609  40-24-060401  15/11/2024   22:13  16/11/2024   \n",
      "...       ...             ...           ...         ...     ...         ...   \n",
      "133727    NaN             NaN           NaN         NaN     NaN         NaN   \n",
      "133728    NaN             NaN           NaN         NaN     NaN         NaN   \n",
      "133729    NaN  Total case IPD            41         NaN     NaN         NaN   \n",
      "133730    NaN          Adj RW          36.9         NaN     NaN         NaN   \n",
      "133731    NaN             CMI           0.9         NaN     NaN         NaN   \n",
      "\n",
      "       TIMEDSC  CALLOS  LEAVEDAY  ACTLOS  ... Unnamed: 2  D/C Unnamed: 215  \\\n",
      "0        01:12     0.0       0.0     0.0  ...        NaN  NaN          NaN   \n",
      "1        09:02     1.0       0.0     1.0  ...        NaN  NaN          NaN   \n",
      "2        12:54     1.0       0.0     1.0  ...        NaN  NaN          NaN   \n",
      "3        08:47     1.0       0.0     1.0  ...        NaN  NaN          NaN   \n",
      "4        08:35     1.0       0.0     1.0  ...        NaN  NaN          NaN   \n",
      "...        ...     ...       ...     ...  ...        ...  ...          ...   \n",
      "133727     NaN     NaN       NaN     NaN  ...        NaN  NaN          NaN   \n",
      "133728     NaN     NaN       NaN     NaN  ...        NaN  NaN          NaN   \n",
      "133729     NaN     NaN       NaN     NaN  ...        NaN  NaN          NaN   \n",
      "133730     NaN     NaN       NaN     NaN  ...        NaN  NaN          NaN   \n",
      "133731     NaN     NaN       NaN     NaN  ...        NaN  NaN          NaN   \n",
      "\n",
      "        Unnamed: 3  Unnamed: 4  39-19-010503 30/08/2019  11:09  31/08/2019  \\\n",
      "0              NaN         NaN           NaN        NaN    NaN         NaN   \n",
      "1              NaN         NaN           NaN        NaN    NaN         NaN   \n",
      "2              NaN         NaN           NaN        NaN    NaN         NaN   \n",
      "3              NaN         NaN           NaN        NaN    NaN         NaN   \n",
      "4              NaN         NaN           NaN        NaN    NaN         NaN   \n",
      "...            ...         ...           ...        ...    ...         ...   \n",
      "133727         NaN         NaN           NaN        NaN    NaN         NaN   \n",
      "133728         NaN         NaN           NaN        NaN    NaN         NaN   \n",
      "133729         NaN         NaN           NaN        NaN    NaN         NaN   \n",
      "133730         NaN         NaN           NaN        NaN    NaN         NaN   \n",
      "133731         NaN         NaN           NaN        NaN    NaN         NaN   \n",
      "\n",
      "        12:06  \n",
      "0         NaN  \n",
      "1         NaN  \n",
      "2         NaN  \n",
      "3         NaN  \n",
      "4         NaN  \n",
      "...       ...  \n",
      "133727    NaN  \n",
      "133728    NaN  \n",
      "133729    NaN  \n",
      "133730    NaN  \n",
      "133731    NaN  \n",
      "\n",
      "[133732 rows x 234 columns]\n",
      "\n",
      "Elapsed Time: 110.5562355518341 seconds\n"
     ]
    }
   ],
   "source": [
    "import pandas as pd\n",
    "import os\n",
    "import time\n",
    "\n",
    "# กำหนดที่อยู่ของโฟลเดอร์หลัก\n",
    "main_folder = r'P:\\Support Data\\ICD-CMI, OR, COVID, Dead\\ICD, CMI\\2022-2024\\DATA CMI\\RAW DATA'\n",
    "\n",
    "# สร้างรายการเก็บข้อมูลจากไฟล์\n",
    "dataframes = []\n",
    "\n",
    "# วัดเวลาเริ่มต้น\n",
    "start_time = time.time()\n",
    "\n",
    "# วนลูปทุกโฟลเดอร์และไฟล์ในโฟลเดอร์หลัก\n",
    "for root, dirs, files in os.walk(main_folder):\n",
    "    for file_name in files:\n",
    "        # ตรวจสอบนามสกุลของไฟล์\n",
    "        if file_name.endswith(('.xlsx', '.xls', '.csv', '.ods')):\n",
    "            # สร้างทางเข้าสำหรับไฟล์\n",
    "            file_path = os.path.join(root, file_name)\n",
    "            \n",
    "            # ตรวจสอบนามสกุลของไฟล์\n",
    "            if file_name.endswith(('.xlsx', '.xls')):\n",
    "                # ใช้ ExcelFile ในการอ่านข้อมูลจาก Excel ที่มีหลาย sheet\n",
    "                xls = pd.ExcelFile(file_path)\n",
    "                for sheet_name in xls.sheet_names:\n",
    "                    df = pd.read_excel(xls, sheet_name)\n",
    "                    # เพิ่มคอลัมน์ 'Source' เพื่อระบุที่มาของข้อมูล\n",
    "                    df['Source'] = os.path.join(root, file_name)\n",
    "                    dataframes.append(df)\n",
    "            elif file_name.endswith('.csv'):\n",
    "                df = pd.read_csv(file_path)\n",
    "                # เพิ่มคอลัมน์ 'Source' เพื่อระบุที่มาของข้อมูล\n",
    "                df['Source'] = os.path.join(root, file_name)\n",
    "                dataframes.append(df)\n",
    "            elif file_name.endswith('.ods'):\n",
    "                df = pd.read_excel(file_path, engine='odf')\n",
    "                # เพิ่มคอลัมน์ 'Source' เพื่อระบุที่มาของข้อมูล\n",
    "                df['Source'] = os.path.join(root, file_name)\n",
    "                dataframes.append(df)\n",
    "\n",
    "# วัดเวลาสิ้นสุด\n",
    "elapsed_time = time.time() - start_time\n",
    "\n",
    "# ต่อข้อมูลจาก DataFrame ทั้งหมด\n",
    "merged_data = pd.concat(dataframes, ignore_index=True)\n",
    "\n",
    "# แสดงผลลัพธ์\n",
    "print(\"Merged Data:\")\n",
    "print(merged_data)\n",
    "\n",
    "# แสดงเวลาที่ใช้\n",
    "print(\"\\nElapsed Time:\", elapsed_time, \"seconds\")\n"
   ]
  },
  {
   "cell_type": "code",
   "execution_count": 2,
   "id": "47260b45-c71a-4379-ad3e-b5aa606687aa",
   "metadata": {},
   "outputs": [],
   "source": [
    "merged_data = merged_data.dropna(subset=['HCODE'])"
   ]
  },
  {
   "cell_type": "code",
   "execution_count": 3,
   "id": "667925c2-7d28-4749-b7c1-2d5cc8d45095",
   "metadata": {},
   "outputs": [],
   "source": [
    "selected_columns_merged_data = merged_data[['HCODE', 'AN','HN','DATEADM','TIMEADM','DATEDSC','TIMEDSC','CALLOS','ACTLOS','WARDDSC','DEPT','AGE','AGEDAY','SEX','DISCHT','ADMWT',\n",
    "                                            'PDX', 'SDX1', 'SDX2', 'SDX3', 'SDX4', 'SDX5', 'SDX6', 'SDX7', 'SDX8', 'SDX9', 'SDX10', 'SDX11', 'SDX12',\n",
    "                                              'PROC1', 'PROC2', 'PROC3', 'PROC4', 'PROC5', 'PROC6', 'PROC7', 'PROC8', 'PROC9', 'PROC10',\n",
    "                                             'PROC11', 'PROC12', 'PROC13', 'PROC14', 'PROC15', 'PROC16', 'PROC17', 'PROC18', 'PROC19', 'PROC20',\n",
    "                                            'MDC','DRG','RW','ADJRW','WTLOS','Source']]"
   ]
  },
  {
   "cell_type": "code",
   "execution_count": 4,
   "id": "39dd0b92-b95f-4fdc-b8fc-aca71f5b2b71",
   "metadata": {},
   "outputs": [
    {
     "ename": "TypeError",
     "evalue": "'int' object is not subscriptable",
     "output_type": "error",
     "traceback": [
      "\u001b[1;31m---------------------------------------------------------------------------\u001b[0m",
      "\u001b[1;31mTypeError\u001b[0m                                 Traceback (most recent call last)",
      "Cell \u001b[1;32mIn[4], line 11\u001b[0m\n\u001b[0;32m      8\u001b[0m         \u001b[38;5;28;01mreturn\u001b[39;00m \u001b[38;5;124m'\u001b[39m\u001b[38;5;124mN/A\u001b[39m\u001b[38;5;124m'\u001b[39m\n\u001b[0;32m     10\u001b[0m \u001b[38;5;66;03m# สร้าง column ใหม่โดยใช้ apply\u001b[39;00m\n\u001b[1;32m---> 11\u001b[0m selected_columns_merged_data\u001b[38;5;241m.\u001b[39mloc[:, \u001b[38;5;124m'\u001b[39m\u001b[38;5;124mOR TYPE\u001b[39m\u001b[38;5;124m'\u001b[39m] \u001b[38;5;241m=\u001b[39m selected_columns_merged_data[\u001b[38;5;124m'\u001b[39m\u001b[38;5;124mDRG\u001b[39m\u001b[38;5;124m'\u001b[39m]\u001b[38;5;241m.\u001b[39mapply(cal_OR_NON_OR_DRG)\n",
      "File \u001b[1;32m~\\AppData\\Local\\anaconda3\\Lib\\site-packages\\pandas\\core\\series.py:4760\u001b[0m, in \u001b[0;36mSeries.apply\u001b[1;34m(self, func, convert_dtype, args, by_row, **kwargs)\u001b[0m\n\u001b[0;32m   4625\u001b[0m \u001b[38;5;28;01mdef\u001b[39;00m \u001b[38;5;21mapply\u001b[39m(\n\u001b[0;32m   4626\u001b[0m     \u001b[38;5;28mself\u001b[39m,\n\u001b[0;32m   4627\u001b[0m     func: AggFuncType,\n\u001b[1;32m   (...)\u001b[0m\n\u001b[0;32m   4632\u001b[0m     \u001b[38;5;241m*\u001b[39m\u001b[38;5;241m*\u001b[39mkwargs,\n\u001b[0;32m   4633\u001b[0m ) \u001b[38;5;241m-\u001b[39m\u001b[38;5;241m>\u001b[39m DataFrame \u001b[38;5;241m|\u001b[39m Series:\n\u001b[0;32m   4634\u001b[0m \u001b[38;5;250m    \u001b[39m\u001b[38;5;124;03m\"\"\"\u001b[39;00m\n\u001b[0;32m   4635\u001b[0m \u001b[38;5;124;03m    Invoke function on values of Series.\u001b[39;00m\n\u001b[0;32m   4636\u001b[0m \n\u001b[1;32m   (...)\u001b[0m\n\u001b[0;32m   4751\u001b[0m \u001b[38;5;124;03m    dtype: float64\u001b[39;00m\n\u001b[0;32m   4752\u001b[0m \u001b[38;5;124;03m    \"\"\"\u001b[39;00m\n\u001b[0;32m   4753\u001b[0m     \u001b[38;5;28;01mreturn\u001b[39;00m SeriesApply(\n\u001b[0;32m   4754\u001b[0m         \u001b[38;5;28mself\u001b[39m,\n\u001b[0;32m   4755\u001b[0m         func,\n\u001b[0;32m   4756\u001b[0m         convert_dtype\u001b[38;5;241m=\u001b[39mconvert_dtype,\n\u001b[0;32m   4757\u001b[0m         by_row\u001b[38;5;241m=\u001b[39mby_row,\n\u001b[0;32m   4758\u001b[0m         args\u001b[38;5;241m=\u001b[39margs,\n\u001b[0;32m   4759\u001b[0m         kwargs\u001b[38;5;241m=\u001b[39mkwargs,\n\u001b[1;32m-> 4760\u001b[0m     )\u001b[38;5;241m.\u001b[39mapply()\n",
      "File \u001b[1;32m~\\AppData\\Local\\anaconda3\\Lib\\site-packages\\pandas\\core\\apply.py:1207\u001b[0m, in \u001b[0;36mSeriesApply.apply\u001b[1;34m(self)\u001b[0m\n\u001b[0;32m   1204\u001b[0m     \u001b[38;5;28;01mreturn\u001b[39;00m \u001b[38;5;28mself\u001b[39m\u001b[38;5;241m.\u001b[39mapply_compat()\n\u001b[0;32m   1206\u001b[0m \u001b[38;5;66;03m# self.func is Callable\u001b[39;00m\n\u001b[1;32m-> 1207\u001b[0m \u001b[38;5;28;01mreturn\u001b[39;00m \u001b[38;5;28mself\u001b[39m\u001b[38;5;241m.\u001b[39mapply_standard()\n",
      "File \u001b[1;32m~\\AppData\\Local\\anaconda3\\Lib\\site-packages\\pandas\\core\\apply.py:1287\u001b[0m, in \u001b[0;36mSeriesApply.apply_standard\u001b[1;34m(self)\u001b[0m\n\u001b[0;32m   1281\u001b[0m \u001b[38;5;66;03m# row-wise access\u001b[39;00m\n\u001b[0;32m   1282\u001b[0m \u001b[38;5;66;03m# apply doesn't have a `na_action` keyword and for backward compat reasons\u001b[39;00m\n\u001b[0;32m   1283\u001b[0m \u001b[38;5;66;03m# we need to give `na_action=\"ignore\"` for categorical data.\u001b[39;00m\n\u001b[0;32m   1284\u001b[0m \u001b[38;5;66;03m# TODO: remove the `na_action=\"ignore\"` when that default has been changed in\u001b[39;00m\n\u001b[0;32m   1285\u001b[0m \u001b[38;5;66;03m#  Categorical (GH51645).\u001b[39;00m\n\u001b[0;32m   1286\u001b[0m action \u001b[38;5;241m=\u001b[39m \u001b[38;5;124m\"\u001b[39m\u001b[38;5;124mignore\u001b[39m\u001b[38;5;124m\"\u001b[39m \u001b[38;5;28;01mif\u001b[39;00m \u001b[38;5;28misinstance\u001b[39m(obj\u001b[38;5;241m.\u001b[39mdtype, CategoricalDtype) \u001b[38;5;28;01melse\u001b[39;00m \u001b[38;5;28;01mNone\u001b[39;00m\n\u001b[1;32m-> 1287\u001b[0m mapped \u001b[38;5;241m=\u001b[39m obj\u001b[38;5;241m.\u001b[39m_map_values(\n\u001b[0;32m   1288\u001b[0m     mapper\u001b[38;5;241m=\u001b[39mcurried, na_action\u001b[38;5;241m=\u001b[39maction, convert\u001b[38;5;241m=\u001b[39m\u001b[38;5;28mself\u001b[39m\u001b[38;5;241m.\u001b[39mconvert_dtype\n\u001b[0;32m   1289\u001b[0m )\n\u001b[0;32m   1291\u001b[0m \u001b[38;5;28;01mif\u001b[39;00m \u001b[38;5;28mlen\u001b[39m(mapped) \u001b[38;5;129;01mand\u001b[39;00m \u001b[38;5;28misinstance\u001b[39m(mapped[\u001b[38;5;241m0\u001b[39m], ABCSeries):\n\u001b[0;32m   1292\u001b[0m     \u001b[38;5;66;03m# GH#43986 Need to do list(mapped) in order to get treated as nested\u001b[39;00m\n\u001b[0;32m   1293\u001b[0m     \u001b[38;5;66;03m#  See also GH#25959 regarding EA support\u001b[39;00m\n\u001b[0;32m   1294\u001b[0m     \u001b[38;5;28;01mreturn\u001b[39;00m obj\u001b[38;5;241m.\u001b[39m_constructor_expanddim(\u001b[38;5;28mlist\u001b[39m(mapped), index\u001b[38;5;241m=\u001b[39mobj\u001b[38;5;241m.\u001b[39mindex)\n",
      "File \u001b[1;32m~\\AppData\\Local\\anaconda3\\Lib\\site-packages\\pandas\\core\\base.py:921\u001b[0m, in \u001b[0;36mIndexOpsMixin._map_values\u001b[1;34m(self, mapper, na_action, convert)\u001b[0m\n\u001b[0;32m    918\u001b[0m \u001b[38;5;28;01mif\u001b[39;00m \u001b[38;5;28misinstance\u001b[39m(arr, ExtensionArray):\n\u001b[0;32m    919\u001b[0m     \u001b[38;5;28;01mreturn\u001b[39;00m arr\u001b[38;5;241m.\u001b[39mmap(mapper, na_action\u001b[38;5;241m=\u001b[39mna_action)\n\u001b[1;32m--> 921\u001b[0m \u001b[38;5;28;01mreturn\u001b[39;00m algorithms\u001b[38;5;241m.\u001b[39mmap_array(arr, mapper, na_action\u001b[38;5;241m=\u001b[39mna_action, convert\u001b[38;5;241m=\u001b[39mconvert)\n",
      "File \u001b[1;32m~\\AppData\\Local\\anaconda3\\Lib\\site-packages\\pandas\\core\\algorithms.py:1814\u001b[0m, in \u001b[0;36mmap_array\u001b[1;34m(arr, mapper, na_action, convert)\u001b[0m\n\u001b[0;32m   1812\u001b[0m values \u001b[38;5;241m=\u001b[39m arr\u001b[38;5;241m.\u001b[39mastype(\u001b[38;5;28mobject\u001b[39m, copy\u001b[38;5;241m=\u001b[39m\u001b[38;5;28;01mFalse\u001b[39;00m)\n\u001b[0;32m   1813\u001b[0m \u001b[38;5;28;01mif\u001b[39;00m na_action \u001b[38;5;129;01mis\u001b[39;00m \u001b[38;5;28;01mNone\u001b[39;00m:\n\u001b[1;32m-> 1814\u001b[0m     \u001b[38;5;28;01mreturn\u001b[39;00m lib\u001b[38;5;241m.\u001b[39mmap_infer(values, mapper, convert\u001b[38;5;241m=\u001b[39mconvert)\n\u001b[0;32m   1815\u001b[0m \u001b[38;5;28;01melse\u001b[39;00m:\n\u001b[0;32m   1816\u001b[0m     \u001b[38;5;28;01mreturn\u001b[39;00m lib\u001b[38;5;241m.\u001b[39mmap_infer_mask(\n\u001b[0;32m   1817\u001b[0m         values, mapper, mask\u001b[38;5;241m=\u001b[39misna(values)\u001b[38;5;241m.\u001b[39mview(np\u001b[38;5;241m.\u001b[39muint8), convert\u001b[38;5;241m=\u001b[39mconvert\n\u001b[0;32m   1818\u001b[0m     )\n",
      "File \u001b[1;32mlib.pyx:2917\u001b[0m, in \u001b[0;36mpandas._libs.lib.map_infer\u001b[1;34m()\u001b[0m\n",
      "Cell \u001b[1;32mIn[4], line 3\u001b[0m, in \u001b[0;36mcal_OR_NON_OR_DRG\u001b[1;34m(value)\u001b[0m\n\u001b[0;32m      2\u001b[0m \u001b[38;5;28;01mdef\u001b[39;00m \u001b[38;5;21mcal_OR_NON_OR_DRG\u001b[39m(value):\n\u001b[1;32m----> 3\u001b[0m     \u001b[38;5;28;01mif\u001b[39;00m \u001b[38;5;241m0\u001b[39m \u001b[38;5;241m<\u001b[39m\u001b[38;5;241m=\u001b[39m \u001b[38;5;28mint\u001b[39m(value[\u001b[38;5;241m3\u001b[39m:\u001b[38;5;241m5\u001b[39m]) \u001b[38;5;241m<\u001b[39m\u001b[38;5;241m=\u001b[39m \u001b[38;5;241m49\u001b[39m:\n\u001b[0;32m      4\u001b[0m         \u001b[38;5;28;01mreturn\u001b[39;00m \u001b[38;5;124m'\u001b[39m\u001b[38;5;124mOR\u001b[39m\u001b[38;5;124m'\u001b[39m\n\u001b[0;32m      5\u001b[0m     \u001b[38;5;28;01melif\u001b[39;00m \u001b[38;5;241m50\u001b[39m \u001b[38;5;241m<\u001b[39m\u001b[38;5;241m=\u001b[39m \u001b[38;5;28mint\u001b[39m(value[\u001b[38;5;241m3\u001b[39m:\u001b[38;5;241m5\u001b[39m]) \u001b[38;5;241m<\u001b[39m\u001b[38;5;241m=\u001b[39m \u001b[38;5;241m99\u001b[39m:\n",
      "\u001b[1;31mTypeError\u001b[0m: 'int' object is not subscriptable"
     ]
    }
   ],
   "source": [
    "# สร้างฟังก์ชันสำหรับการแปลงสูตร Excel\n",
    "def cal_OR_NON_OR_DRG(value):\n",
    "    if 0 <= int(value[3:5]) <= 49:\n",
    "        return 'OR'\n",
    "    elif 50 <= int(value[3:5]) <= 99:\n",
    "        return 'NON OR'\n",
    "    else:\n",
    "        return 'N/A'\n",
    "\n",
    "\n",
    "# สร้าง column ใหม่โดยใช้ apply\n",
    "selected_columns_merged_data.loc[:, 'OR TYPE'] = selected_columns_merged_data['DRG'].apply(cal_OR_NON_OR_DRG)"
   ]
  },
  {
   "cell_type": "code",
   "execution_count": null,
   "id": "9c5e43c1-0a64-4b09-a24d-a8e8610e0459",
   "metadata": {},
   "outputs": [],
   "source": [
    "selected_columns_merged_data"
   ]
  },
  {
   "cell_type": "code",
   "execution_count": null,
   "id": "885d6ec8-9656-48c7-ae75-6c0a02c9513b",
   "metadata": {},
   "outputs": [],
   "source": [
    "# ฟังก์ชันสำหรับการแปลงวันที่\n",
    "def convert_date_format(date_str):\n",
    "    try:\n",
    "        return pd.to_datetime(date_str, format='%d-%m-%Y')\n",
    "    except ValueError:\n",
    "        return pd.to_datetime(date_str, format='%d/%m/%Y', errors='coerce')\n",
    "\n",
    "selected_columns_merged_data['DATEADM'] = selected_columns_merged_data['DATEADM'].apply(convert_date_format)\n",
    "selected_columns_merged_data['DATEDSC'] = selected_columns_merged_data['DATEDSC'].apply(convert_date_format)"
   ]
  },
  {
   "cell_type": "code",
   "execution_count": null,
   "id": "772608e7-a5a9-46ef-9dff-0f7222e9a1de",
   "metadata": {},
   "outputs": [],
   "source": [
    "selected_columns_merged_data"
   ]
  },
  {
   "cell_type": "code",
   "execution_count": null,
   "id": "e26653e1-5229-42b2-9536-36de680b1e08",
   "metadata": {},
   "outputs": [],
   "source": [
    "def replace_icd_10(df, columns):\n",
    "    for col in columns:\n",
    "        # ตรวจสอบและจัดการค่า NaN ในคอลัมน์\n",
    "        df[col].fillna('', inplace=True)\n",
    "\n",
    "        # แปลงค่าในคอลัมน์\n",
    "        df[col] = df[col].str.strip(\"'\").apply(lambda x: x[:3] + ('.' + x[3:] if len(x) > 3 else ''))\n",
    "\n",
    "    return df"
   ]
  },
  {
   "cell_type": "code",
   "execution_count": null,
   "id": "be687da3-a77a-496f-a9c5-3e3300fe0ed8",
   "metadata": {},
   "outputs": [],
   "source": [
    "# เรียกใช้งานฟังก์ชัน\n",
    "columns_to_process = ['PDX', 'SDX1', 'SDX2', 'SDX3', 'SDX4', 'SDX5', 'SDX6', 'SDX7', 'SDX8', 'SDX9', 'SDX10', 'SDX11', 'SDX12']\n",
    "selected_columns_merged_data = replace_icd_10(selected_columns_merged_data, columns_to_process)"
   ]
  },
  {
   "cell_type": "code",
   "execution_count": null,
   "id": "e99bfc09-7ad0-45d9-8dcb-1c0d9a180fef",
   "metadata": {},
   "outputs": [],
   "source": [
    "def replace_icd_9(df, columns):\n",
    "    for col in columns:\n",
    "        # ตรวจสอบและจัดการค่า NaN ในคอลัมน์\n",
    "        df[col].fillna('', inplace=True)\n",
    "\n",
    "         # แปลงค่าในคอลัมน์\n",
    "        df[col] = df[col].str.strip(\"'\")\n",
    "\n",
    "    return df"
   ]
  },
  {
   "cell_type": "code",
   "execution_count": null,
   "id": "6336defe-da72-496b-a817-9e8cf30b3f55",
   "metadata": {},
   "outputs": [],
   "source": [
    "# เรียกใช้งานฟังก์ชัน\n",
    "columns_to_process = ['PROC1', 'PROC2', 'PROC3', 'PROC4', 'PROC5', 'PROC6', 'PROC7', 'PROC8', 'PROC9', 'PROC10',\n",
    "                     'PROC11', 'PROC12', 'PROC13', 'PROC14', 'PROC15', 'PROC16', 'PROC17', 'PROC18', 'PROC19', 'PROC20']\n",
    "selected_columns_merged_data = replace_icd_9(selected_columns_merged_data, columns_to_process)"
   ]
  },
  {
   "cell_type": "code",
   "execution_count": null,
   "id": "a2f77fdf-86bf-454b-afee-7eb7b44ca364",
   "metadata": {},
   "outputs": [],
   "source": [
    "def replace_symbol(df, columns):\n",
    "    for col in columns:\n",
    "        # ตรวจสอบและจัดการค่า NaN ในคอลัมน์\n",
    "        df[col].fillna('', inplace=True)\n",
    "\n",
    "        # แปลงค่าในคอลัมน์\n",
    "        df[col] = df[col].str.strip(\"'\")\n",
    "\n",
    "    return df"
   ]
  },
  {
   "cell_type": "code",
   "execution_count": null,
   "id": "86bce311-abef-44b9-9af5-40f100be264f",
   "metadata": {},
   "outputs": [],
   "source": [
    "# เรียกใช้งานฟังก์ชัน\n",
    "columns_to_process = ['MDC', 'DRG']\n",
    "selected_columns_merged_data = replace_symbol(selected_columns_merged_data, columns_to_process)"
   ]
  },
  {
   "cell_type": "code",
   "execution_count": null,
   "id": "f742f691-19f8-4c93-a82d-0e14445ee19c",
   "metadata": {},
   "outputs": [],
   "source": [
    "selected_columns_merged_data"
   ]
  },
  {
   "cell_type": "code",
   "execution_count": null,
   "id": "5e7069a4-9112-499d-bc51-7d7e3d12587b",
   "metadata": {},
   "outputs": [],
   "source": [
    "selected_columns_merged_data.info()"
   ]
  },
  {
   "cell_type": "code",
   "execution_count": null,
   "id": "dd44fb6e-8868-45f5-a63d-b128fb150f76",
   "metadata": {},
   "outputs": [],
   "source": [
    "selected_columns_merged_data_no_duplicates = selected_columns_merged_data.drop_duplicates(subset='AN')"
   ]
  },
  {
   "cell_type": "code",
   "execution_count": null,
   "id": "fcac8fa8-096b-4f73-bd55-a9db6870f08b",
   "metadata": {},
   "outputs": [],
   "source": [
    "selected_columns_merged_data_no_duplicates.info()"
   ]
  },
  {
   "cell_type": "code",
   "execution_count": null,
   "id": "4ee2a9c4-6622-4f3a-a96c-50b80d4a51ac",
   "metadata": {},
   "outputs": [],
   "source": [
    "import time\n",
    "\n",
    "excel_file_path = 'RAW_CMI.xlsx'  # ระบุ path และชื่อไฟล์ Excel ที่คุณต้องการ\n",
    "\n",
    "# บันทึกเวลาเริ่มต้น\n",
    "start_time = time.time()\n",
    "\n",
    "# Export DataFrame เป็นไฟล์ Excel ด้วย Pandas\n",
    "selected_columns_merged_data.to_excel(excel_file_path, index=False)\n",
    "\n",
    "# คำนวณและแสดงเวลาที่ใช้\n",
    "elapsed_time = time.time() - start_time\n",
    "print(f'เวลาที่ใช้ในการ export เป็นไฟล์ Excel: {elapsed_time:.2f} วินาที')"
   ]
  },
  {
   "cell_type": "code",
   "execution_count": null,
   "id": "4b81a08d-1990-4061-b473-4ed0dd3b76a1",
   "metadata": {},
   "outputs": [],
   "source": []
  }
 ],
 "metadata": {
  "kernelspec": {
   "display_name": "Python 3 (ipykernel)",
   "language": "python",
   "name": "python3"
  },
  "language_info": {
   "codemirror_mode": {
    "name": "ipython",
    "version": 3
   },
   "file_extension": ".py",
   "mimetype": "text/x-python",
   "name": "python",
   "nbconvert_exporter": "python",
   "pygments_lexer": "ipython3",
   "version": "3.11.5"
  }
 },
 "nbformat": 4,
 "nbformat_minor": 5
}
