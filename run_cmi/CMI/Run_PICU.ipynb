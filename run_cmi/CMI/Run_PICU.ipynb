{
 "cells": [
  {
   "cell_type": "code",
   "execution_count": 12,
   "id": "47b21948-be96-49fd-9c4d-a73f11258e62",
   "metadata": {},
   "outputs": [
    {
     "name": "stdout",
     "output_type": "stream",
     "text": [
      "Merged Data:\n",
      "     dim_wards[ward_name] dim_organization[bu_code] fact_patientday[hn]  \\\n",
      "0                     ICU                       SRH        39-16-002432   \n",
      "1                     ICU                       SRH        39-16-012220   \n",
      "2                     ICU                       SRH        39-17-007343   \n",
      "3                     ICU                       SRH        39-17-008041   \n",
      "4                     ICU                       SRH        39-17-013006   \n",
      "...                   ...                       ...                 ...   \n",
      "1265                 PICU                       SRH        39-23-015220   \n",
      "1266                 PICU                       SRH        39-23-015595   \n",
      "1267                 PICU                       SRH        39-23-015628   \n",
      "1268                 PICU                       SRH        39-23-016496   \n",
      "1269                 PICU                       SRH        39-23-017019   \n",
      "\n",
      "     dim_patient_en[EN]  fact_patientday[PatientAgeYear]  \\\n",
      "0         I39-23-001479                                8   \n",
      "1         I39-23-001122                                8   \n",
      "2         I39-23-001791                               11   \n",
      "3         I39-23-006440                               13   \n",
      "4         I39-23-001502                               13   \n",
      "...                 ...                              ...   \n",
      "1265      I39-23-009248                                0   \n",
      "1266      I39-23-008546                                1   \n",
      "1267      I39-23-008574                                0   \n",
      "1268      I39-23-009058                                7   \n",
      "1269      I39-23-009352                               13   \n",
      "\n",
      "      fact_patientday[PatientAgeDay] dim_gender[gender_name_en]  \\\n",
      "0                               2925                       Male   \n",
      "1                               3063                     Female   \n",
      "2                               4380                       Male   \n",
      "3                               4811                       Male   \n",
      "4                               4837                       Male   \n",
      "...                              ...                        ...   \n",
      "1265                             194                     Female   \n",
      "1266                             329                       Male   \n",
      "1267                             250                       Male   \n",
      "1268                            2880                       Male   \n",
      "1269                            4997                       Male   \n",
      "\n",
      "     dim_patient_en[visit_date] dim_visit_trauma_type[visit_trauma_name]  \\\n",
      "0                    2023-02-28                               NON TRAUMA   \n",
      "1                    2023-02-16                               NON TRAUMA   \n",
      "2                    2023-03-12                               NON TRAUMA   \n",
      "3                    2023-08-24                               NON TRAUMA   \n",
      "4                    2023-03-01                                   TRAUMA   \n",
      "...                         ...                                      ...   \n",
      "1265                 2023-11-24                               NON TRAUMA   \n",
      "1266                 2023-10-29                               NON TRAUMA   \n",
      "1267                 2023-10-30                               NON TRAUMA   \n",
      "1268                 2023-11-17                               NON TRAUMA   \n",
      "1269                 2023-11-28                                   TRAUMA   \n",
      "\n",
      "      [m_PatientDay]                                             Source  \n",
      "0           0.977083  P:\\Support Data\\ICD-CMI, OR, COVID, Dead\\ICD, ...  \n",
      "1           1.036806  P:\\Support Data\\ICD-CMI, OR, COVID, Dead\\ICD, ...  \n",
      "2           0.745139  P:\\Support Data\\ICD-CMI, OR, COVID, Dead\\ICD, ...  \n",
      "3           0.447917  P:\\Support Data\\ICD-CMI, OR, COVID, Dead\\ICD, ...  \n",
      "4           1.220139  P:\\Support Data\\ICD-CMI, OR, COVID, Dead\\ICD, ...  \n",
      "...              ...                                                ...  \n",
      "1265        4.805556  P:\\Support Data\\ICD-CMI, OR, COVID, Dead\\ICD, ...  \n",
      "1266        0.916667  P:\\Support Data\\ICD-CMI, OR, COVID, Dead\\ICD, ...  \n",
      "1267        0.584722  P:\\Support Data\\ICD-CMI, OR, COVID, Dead\\ICD, ...  \n",
      "1268        0.864583  P:\\Support Data\\ICD-CMI, OR, COVID, Dead\\ICD, ...  \n",
      "1269        0.954167  P:\\Support Data\\ICD-CMI, OR, COVID, Dead\\ICD, ...  \n",
      "\n",
      "[1270 rows x 11 columns]\n",
      "\n",
      "Elapsed Time: 0.5317347049713135 seconds\n"
     ]
    }
   ],
   "source": [
    "import pandas as pd\n",
    "import os\n",
    "import time\n",
    "\n",
    "# กำหนดที่อยู่ของโฟลเดอร์หลัก\n",
    "main_folder = r'D:\\nai\\DATA MAIN\\DATA CMI\\PatientDay'\n",
    "\n",
    "# สร้างรายการเก็บข้อมูลจากไฟล์\n",
    "dataframes = []\n",
    "\n",
    "# วัดเวลาเริ่มต้น\n",
    "start_time = time.time()\n",
    "\n",
    "# วนลูปทุกโฟลเดอร์และไฟล์ในโฟลเดอร์หลัก\n",
    "for root, dirs, files in os.walk(main_folder):\n",
    "    for file_name in files:\n",
    "        # ตรวจสอบนามสกุลของไฟล์\n",
    "        if file_name.endswith(('.xlsx', '.xls', '.csv', '.ods')):\n",
    "            # สร้างทางเข้าสำหรับไฟล์\n",
    "            file_path = os.path.join(root, file_name)\n",
    "            \n",
    "            # ตรวจสอบนามสกุลของไฟล์\n",
    "            if file_name.endswith(('.xlsx', '.xls')):\n",
    "                # ใช้ ExcelFile ในการอ่านข้อมูลจาก Excel ที่มีหลาย sheet\n",
    "                xls = pd.ExcelFile(file_path)\n",
    "                for sheet_name in xls.sheet_names:\n",
    "                    df = pd.read_excel(xls, sheet_name)\n",
    "                    # เพิ่มคอลัมน์ 'Source' เพื่อระบุที่มาของข้อมูล\n",
    "                    df['Source'] = os.path.join(root, file_name)\n",
    "                    dataframes.append(df)\n",
    "            elif file_name.endswith('.csv'):\n",
    "                df = pd.read_csv(file_path)\n",
    "                # เพิ่มคอลัมน์ 'Source' เพื่อระบุที่มาของข้อมูล\n",
    "                df['Source'] = os.path.join(root, file_name)\n",
    "                dataframes.append(df)\n",
    "            elif file_name.endswith('.ods'):\n",
    "                df = pd.read_excel(file_path, engine='odf')\n",
    "                # เพิ่มคอลัมน์ 'Source' เพื่อระบุที่มาของข้อมูล\n",
    "                df['Source'] = os.path.join(root, file_name)\n",
    "                dataframes.append(df)\n",
    "\n",
    "# วัดเวลาสิ้นสุด\n",
    "elapsed_time = time.time() - start_time\n",
    "\n",
    "# ต่อข้อมูลจาก DataFrame ทั้งหมด\n",
    "merged_data = pd.concat(dataframes, ignore_index=True)\n",
    "\n",
    "# แสดงผลลัพธ์\n",
    "print(\"Merged Data:\")\n",
    "print(merged_data)\n",
    "\n",
    "# แสดงเวลาที่ใช้\n",
    "print(\"\\nElapsed Time:\", elapsed_time, \"seconds\")\n"
   ]
  },
  {
   "cell_type": "code",
   "execution_count": null,
   "id": "0e997784-9ec6-4328-a65e-22debe8115d5",
   "metadata": {},
   "outputs": [],
   "source": [
    "merged_data.head(3)"
   ]
  },
  {
   "cell_type": "code",
   "execution_count": null,
   "id": "622d75ce-f9ee-4ee0-ba3b-975abfd4a047",
   "metadata": {},
   "outputs": [],
   "source": [
    "# สร้าง dict เพื่อแมปชื่อเก่ากับชื่อใหม่\n",
    "column_mapping = {'dim_wards[ward_name]': 'Ward', 'dim_organization[bu_code]': 'bu_code', 'fact_patientday[hn]': 'hn', 'dim_patient_en[EN]': 'en', 'fact_patientday[PatientAgeYear]': 'PatientAgeYear', 'fact_patientday[PatientAgeDay]': 'PatientAgeDay', 'dim_gender[gender_name_en]': 'gender', 'dim_patient_en[visit_date]': 'visit_date', 'dim_visit_trauma_type[visit_trauma_name]': 'trauma_type', '[m_PatientDay]': 'PatientDay'}\n",
    "\n",
    "# เปลี่ยนชื่อหัว column ใน DataFrame\n",
    "merged_data.rename(columns=column_mapping, inplace=True)"
   ]
  },
  {
   "cell_type": "code",
   "execution_count": null,
   "id": "db9d0954-1998-40fa-8242-e154981b880a",
   "metadata": {},
   "outputs": [],
   "source": [
    "merged_data.head(3)"
   ]
  },
  {
   "cell_type": "code",
   "execution_count": null,
   "id": "f657d20f-17c4-4252-ac9a-2badd7f83d47",
   "metadata": {},
   "outputs": [],
   "source": [
    "duplicates = merged_data.duplicated()\n",
    "merged_data[duplicates]\n",
    "print(merged_data[duplicates])"
   ]
  },
  {
   "cell_type": "code",
   "execution_count": null,
   "id": "123974f1-1aa0-4328-8709-7a72a1ea0106",
   "metadata": {},
   "outputs": [],
   "source": [
    "merged_data.info()"
   ]
  },
  {
   "cell_type": "code",
   "execution_count": null,
   "id": "49a8c2fa-400c-4c4e-8fb2-d8daffe7a204",
   "metadata": {},
   "outputs": [],
   "source": [
    "merged_data_no_duplicates = merged_data.drop_duplicates(subset='en')"
   ]
  },
  {
   "cell_type": "code",
   "execution_count": null,
   "id": "9db83b3a-228d-4cf9-9e5f-5a6dd536239f",
   "metadata": {},
   "outputs": [],
   "source": [
    "merged_data_no_duplicates.info()"
   ]
  },
  {
   "cell_type": "code",
   "execution_count": null,
   "id": "c4d08419-ffbc-4412-8401-db28a13ba528",
   "metadata": {},
   "outputs": [],
   "source": [
    "merged_data_no_duplicates"
   ]
  },
  {
   "cell_type": "code",
   "execution_count": null,
   "id": "eef1ee4b-d284-4c79-b75e-057fb38d2182",
   "metadata": {},
   "outputs": [],
   "source": [
    "import time\n",
    "\n",
    "excel_file_path = 'RAW_PICU.xlsx'  # ระบุ path และชื่อไฟล์ Excel ที่คุณต้องการ\n",
    "\n",
    "# บันทึกเวลาเริ่มต้น\n",
    "start_time = time.time()\n",
    "\n",
    "# Export DataFrame เป็นไฟล์ Excel ด้วย Pandas\n",
    "merged_data_no_duplicates.to_excel(excel_file_path, index=False)\n",
    "\n",
    "# คำนวณและแสดงเวลาที่ใช้\n",
    "elapsed_time = time.time() - start_time\n",
    "print(f'เวลาที่ใช้ในการ export เป็นไฟล์ Excel: {elapsed_time:.2f} วินาที')"
   ]
  }
 ],
 "metadata": {
  "kernelspec": {
   "display_name": "Python 3 (ipykernel)",
   "language": "python",
   "name": "python3"
  },
  "language_info": {
   "codemirror_mode": {
    "name": "ipython",
    "version": 3
   },
   "file_extension": ".py",
   "mimetype": "text/x-python",
   "name": "python",
   "nbconvert_exporter": "python",
   "pygments_lexer": "ipython3",
   "version": "3.11.5"
  }
 },
 "nbformat": 4,
 "nbformat_minor": 5
}
